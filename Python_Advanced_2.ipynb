{
 "cells": [
  {
   "cell_type": "markdown",
   "id": "3c37a05a",
   "metadata": {},
   "source": [
    "1. What is the relationship between classes and modules?"
   ]
  },
  {
   "cell_type": "markdown",
   "id": "01bf3fe4",
   "metadata": {},
   "source": [
    "Modules are collections of methods and constants. They cannot generate instances. Classes may generate instances (objects), and have per-instance state (instance variables)."
   ]
  },
  {
   "cell_type": "markdown",
   "id": "612a8861",
   "metadata": {},
   "source": [
    "2. How do you make instances and classes?"
   ]
  },
  {
   "cell_type": "markdown",
   "id": "b51ee641",
   "metadata": {},
   "source": [
    "To create instances of a class, you call the class using class name and pass in whatever arguments its __init__ method accepts."
   ]
  },
  {
   "cell_type": "markdown",
   "id": "3cb9d60e",
   "metadata": {},
   "source": [
    "3. Where and how should be class attributes created?"
   ]
  },
  {
   "cell_type": "markdown",
   "id": "f1ecb464",
   "metadata": {},
   "source": [
    "Class attributes belong to the class itself they will be shared by all the instances. Such attributes are defined in the class body parts usually at the top, for legibility. Unlike class attributes, instance attributes are not shared by objects."
   ]
  },
  {
   "cell_type": "markdown",
   "id": "bde7d923",
   "metadata": {},
   "source": [
    "4. Where and how are instance attributes created?"
   ]
  },
  {
   "cell_type": "markdown",
   "id": "b4ed987d",
   "metadata": {},
   "source": [
    "Instance attributes are declared within a class's `__init__` method. The `__init__` method is a unique method in Python that is automatically called when a new class instance is created. Within this method, you can define and initialize instance attributes."
   ]
  },
  {
   "cell_type": "markdown",
   "id": "7f5a6793",
   "metadata": {},
   "source": [
    "5. What does the term 'self' in a Python class mean?"
   ]
  },
  {
   "cell_type": "markdown",
   "id": "d72a5f8e",
   "metadata": {},
   "source": [
    "'SELF' represents the instance of class. This handy keyword allows you to access variables, attributes, and methods of a defined class in Python."
   ]
  },
  {
   "cell_type": "markdown",
   "id": "1b65eb65",
   "metadata": {},
   "source": [
    "6. How does a Python class handle operator overloading?"
   ]
  },
  {
   "cell_type": "markdown",
   "id": "403f61f4",
   "metadata": {},
   "source": [
    "Operator Overloading means giving extended meaning beyond their predefined operational meaning. For example operator + is used to add two integers as well as join two strings and merge two lists. It is achievable because ‘+’ operator is overloaded by int class and str class. "
   ]
  },
  {
   "cell_type": "markdown",
   "id": "f93db897",
   "metadata": {},
   "source": [
    "7. When do you consider allowing operator overloading of your classes?"
   ]
  },
  {
   "cell_type": "markdown",
   "id": "b3b522b5",
   "metadata": {},
   "source": [
    "Operator overloading is syntactic sugar, and is used because it allows programming using notation nearer to the target domain and allows user-defined types a similar level of syntactic support as types built into a language."
   ]
  },
  {
   "cell_type": "markdown",
   "id": "bb6000ff",
   "metadata": {},
   "source": [
    "8. What is the most popular form of operator overloading?"
   ]
  },
  {
   "cell_type": "markdown",
   "id": "a7cc2382",
   "metadata": {},
   "source": [
    "Top 4 Operators of Overloading in Python:\n",
    "-Plus Operator Overloaded - This involves an extended interpretation of an operator more than its original purpose. The most common use of the addition operator ‘+’ is for concatenating and combining two different strings. \n",
    "-Multiplication Operator Overloaded - ' * ' operator multiply two numbers, but it is also capable of repeating strings and lists.\n",
    "-Greater than and Less than Operator Overloaded - The comparison operators like > and < exhibit similar operator overloading outcomes. They display a great difference in handling the usual numbers and strings.\n",
    "-Equal to Operator Overloaded - The equal operator (==) can be used to compare two distinct lists."
   ]
  },
  {
   "cell_type": "markdown",
   "id": "c9129ccf",
   "metadata": {},
   "source": [
    "9. What are the two most important concepts to grasp in order to comprehend Python OOP code?"
   ]
  },
  {
   "cell_type": "markdown",
   "id": "059f2e17",
   "metadata": {},
   "source": [
    "Inheritance: Allowing a class to inherit attributes and methods from another class, promoting code reuse. Polymorphism: Using a single interface to represent different data types or objects."
   ]
  }
 ],
 "metadata": {
  "kernelspec": {
   "display_name": "Python 3 (ipykernel)",
   "language": "python",
   "name": "python3"
  },
  "language_info": {
   "codemirror_mode": {
    "name": "ipython",
    "version": 3
   },
   "file_extension": ".py",
   "mimetype": "text/x-python",
   "name": "python",
   "nbconvert_exporter": "python",
   "pygments_lexer": "ipython3",
   "version": "3.10.9"
  }
 },
 "nbformat": 4,
 "nbformat_minor": 5
}
